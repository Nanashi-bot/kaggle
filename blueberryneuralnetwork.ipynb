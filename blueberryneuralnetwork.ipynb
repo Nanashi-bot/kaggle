{
  "cells": [
    {
      "cell_type": "markdown",
      "metadata": {
        "id": "view-in-github",
        "colab_type": "text"
      },
      "source": [
        "<a href=\"https://colab.research.google.com/github/Nanashi-bot/kaggle/blob/main/blueberryneuralnetwork.ipynb\" target=\"_parent\"><img src=\"https://colab.research.google.com/assets/colab-badge.svg\" alt=\"Open In Colab\"/></a>"
      ]
    },
    {
      "cell_type": "code",
      "execution_count": null,
      "metadata": {
        "colab": {
          "base_uri": "https://localhost:8080/"
        },
        "id": "9DbiEnlOjbSj",
        "outputId": "00736e97-3bdf-4df5-fec0-fe47f521fc8d"
      },
      "outputs": [
        {
          "name": "stdout",
          "output_type": "stream",
          "text": [
            "Mounted at /content/drive\n"
          ]
        }
      ],
      "source": [
        "from google.colab import drive\n",
        "drive.mount('/content/drive')"
      ]
    },
    {
      "cell_type": "code",
      "execution_count": null,
      "metadata": {
        "id": "2khPtKczjmPK"
      },
      "outputs": [],
      "source": [
        "!mkdir -p '/content/drive/My Drive/excelfiles'"
      ]
    },
    {
      "cell_type": "code",
      "execution_count": null,
      "metadata": {
        "id": "zNFkr9bdjn-s"
      },
      "outputs": [],
      "source": [
        "import pandas as pd\n",
        "df = pd.read_csv('/content/drive/My Drive/excelfiles/train314.csv')"
      ]
    },
    {
      "cell_type": "code",
      "execution_count": null,
      "metadata": {
        "colab": {
          "base_uri": "https://localhost:8080/",
          "height": 364
        },
        "id": "sXKvI0bmpsMZ",
        "outputId": "e35fe284-6b19-45e4-9397-b9df7352e9bc"
      },
      "outputs": [
        {
          "data": {
            "text/html": [
              "\n",
              "  <div id=\"df-03944706-c235-4cff-b28f-e4b9d069bed0\">\n",
              "    <div class=\"colab-df-container\">\n",
              "      <div>\n",
              "<style scoped>\n",
              "    .dataframe tbody tr th:only-of-type {\n",
              "        vertical-align: middle;\n",
              "    }\n",
              "\n",
              "    .dataframe tbody tr th {\n",
              "        vertical-align: top;\n",
              "    }\n",
              "\n",
              "    .dataframe thead th {\n",
              "        text-align: right;\n",
              "    }\n",
              "</style>\n",
              "<table border=\"1\" class=\"dataframe\">\n",
              "  <thead>\n",
              "    <tr style=\"text-align: right;\">\n",
              "      <th></th>\n",
              "      <th>id</th>\n",
              "      <th>clonesize</th>\n",
              "      <th>honeybee</th>\n",
              "      <th>bumbles</th>\n",
              "      <th>andrena</th>\n",
              "      <th>osmia</th>\n",
              "      <th>MaxOfUpperTRange</th>\n",
              "      <th>MinOfUpperTRange</th>\n",
              "      <th>AverageOfUpperTRange</th>\n",
              "      <th>MaxOfLowerTRange</th>\n",
              "      <th>MinOfLowerTRange</th>\n",
              "      <th>AverageOfLowerTRange</th>\n",
              "      <th>RainingDays</th>\n",
              "      <th>AverageRainingDays</th>\n",
              "      <th>fruitset</th>\n",
              "      <th>fruitmass</th>\n",
              "      <th>seeds</th>\n",
              "      <th>yield</th>\n",
              "    </tr>\n",
              "  </thead>\n",
              "  <tbody>\n",
              "    <tr>\n",
              "      <th>count</th>\n",
              "      <td>15289.000000</td>\n",
              "      <td>15289.000000</td>\n",
              "      <td>15289.000000</td>\n",
              "      <td>15289.000000</td>\n",
              "      <td>15289.000000</td>\n",
              "      <td>15289.000000</td>\n",
              "      <td>15289.000000</td>\n",
              "      <td>15289.000000</td>\n",
              "      <td>15289.000000</td>\n",
              "      <td>15289.000000</td>\n",
              "      <td>15289.000000</td>\n",
              "      <td>15289.000000</td>\n",
              "      <td>15289.000000</td>\n",
              "      <td>15289.000000</td>\n",
              "      <td>15289.000000</td>\n",
              "      <td>15289.000000</td>\n",
              "      <td>15289.000000</td>\n",
              "      <td>15289.000000</td>\n",
              "    </tr>\n",
              "    <tr>\n",
              "      <th>mean</th>\n",
              "      <td>7644.000000</td>\n",
              "      <td>19.704690</td>\n",
              "      <td>0.389314</td>\n",
              "      <td>0.286768</td>\n",
              "      <td>0.492675</td>\n",
              "      <td>0.592355</td>\n",
              "      <td>82.169887</td>\n",
              "      <td>49.673281</td>\n",
              "      <td>68.656256</td>\n",
              "      <td>59.229538</td>\n",
              "      <td>28.660553</td>\n",
              "      <td>48.568500</td>\n",
              "      <td>18.660865</td>\n",
              "      <td>0.324176</td>\n",
              "      <td>0.502741</td>\n",
              "      <td>0.446553</td>\n",
              "      <td>36.164950</td>\n",
              "      <td>6025.193999</td>\n",
              "    </tr>\n",
              "    <tr>\n",
              "      <th>std</th>\n",
              "      <td>4413.698468</td>\n",
              "      <td>6.595211</td>\n",
              "      <td>0.361643</td>\n",
              "      <td>0.059917</td>\n",
              "      <td>0.148115</td>\n",
              "      <td>0.139489</td>\n",
              "      <td>9.146703</td>\n",
              "      <td>5.546405</td>\n",
              "      <td>7.641807</td>\n",
              "      <td>6.610640</td>\n",
              "      <td>3.195367</td>\n",
              "      <td>5.390545</td>\n",
              "      <td>11.657582</td>\n",
              "      <td>0.163905</td>\n",
              "      <td>0.074390</td>\n",
              "      <td>0.037035</td>\n",
              "      <td>4.031087</td>\n",
              "      <td>1337.056850</td>\n",
              "    </tr>\n",
              "    <tr>\n",
              "      <th>min</th>\n",
              "      <td>0.000000</td>\n",
              "      <td>10.000000</td>\n",
              "      <td>0.000000</td>\n",
              "      <td>0.000000</td>\n",
              "      <td>0.000000</td>\n",
              "      <td>0.000000</td>\n",
              "      <td>69.700000</td>\n",
              "      <td>39.000000</td>\n",
              "      <td>58.200000</td>\n",
              "      <td>50.200000</td>\n",
              "      <td>24.300000</td>\n",
              "      <td>41.200000</td>\n",
              "      <td>1.000000</td>\n",
              "      <td>0.060000</td>\n",
              "      <td>0.192732</td>\n",
              "      <td>0.311921</td>\n",
              "      <td>22.079199</td>\n",
              "      <td>1945.530610</td>\n",
              "    </tr>\n",
              "    <tr>\n",
              "      <th>25%</th>\n",
              "      <td>3822.000000</td>\n",
              "      <td>12.500000</td>\n",
              "      <td>0.250000</td>\n",
              "      <td>0.250000</td>\n",
              "      <td>0.380000</td>\n",
              "      <td>0.500000</td>\n",
              "      <td>77.400000</td>\n",
              "      <td>46.800000</td>\n",
              "      <td>64.700000</td>\n",
              "      <td>55.800000</td>\n",
              "      <td>27.000000</td>\n",
              "      <td>45.800000</td>\n",
              "      <td>16.000000</td>\n",
              "      <td>0.260000</td>\n",
              "      <td>0.458246</td>\n",
              "      <td>0.419216</td>\n",
              "      <td>33.232449</td>\n",
              "      <td>5128.163510</td>\n",
              "    </tr>\n",
              "    <tr>\n",
              "      <th>50%</th>\n",
              "      <td>7644.000000</td>\n",
              "      <td>25.000000</td>\n",
              "      <td>0.500000</td>\n",
              "      <td>0.250000</td>\n",
              "      <td>0.500000</td>\n",
              "      <td>0.630000</td>\n",
              "      <td>86.000000</td>\n",
              "      <td>52.000000</td>\n",
              "      <td>71.900000</td>\n",
              "      <td>62.000000</td>\n",
              "      <td>30.000000</td>\n",
              "      <td>50.800000</td>\n",
              "      <td>16.000000</td>\n",
              "      <td>0.260000</td>\n",
              "      <td>0.506600</td>\n",
              "      <td>0.446570</td>\n",
              "      <td>36.040675</td>\n",
              "      <td>6117.475900</td>\n",
              "    </tr>\n",
              "    <tr>\n",
              "      <th>75%</th>\n",
              "      <td>11466.000000</td>\n",
              "      <td>25.000000</td>\n",
              "      <td>0.500000</td>\n",
              "      <td>0.380000</td>\n",
              "      <td>0.630000</td>\n",
              "      <td>0.750000</td>\n",
              "      <td>86.000000</td>\n",
              "      <td>52.000000</td>\n",
              "      <td>71.900000</td>\n",
              "      <td>62.000000</td>\n",
              "      <td>30.000000</td>\n",
              "      <td>50.800000</td>\n",
              "      <td>24.000000</td>\n",
              "      <td>0.390000</td>\n",
              "      <td>0.560445</td>\n",
              "      <td>0.474134</td>\n",
              "      <td>39.158238</td>\n",
              "      <td>7019.694380</td>\n",
              "    </tr>\n",
              "    <tr>\n",
              "      <th>max</th>\n",
              "      <td>15288.000000</td>\n",
              "      <td>40.000000</td>\n",
              "      <td>18.430000</td>\n",
              "      <td>0.585000</td>\n",
              "      <td>0.750000</td>\n",
              "      <td>0.750000</td>\n",
              "      <td>94.600000</td>\n",
              "      <td>57.200000</td>\n",
              "      <td>79.000000</td>\n",
              "      <td>68.200000</td>\n",
              "      <td>33.000000</td>\n",
              "      <td>55.900000</td>\n",
              "      <td>34.000000</td>\n",
              "      <td>0.560000</td>\n",
              "      <td>0.652144</td>\n",
              "      <td>0.535660</td>\n",
              "      <td>46.585105</td>\n",
              "      <td>8969.401840</td>\n",
              "    </tr>\n",
              "  </tbody>\n",
              "</table>\n",
              "</div>\n",
              "      <button class=\"colab-df-convert\" onclick=\"convertToInteractive('df-03944706-c235-4cff-b28f-e4b9d069bed0')\"\n",
              "              title=\"Convert this dataframe to an interactive table.\"\n",
              "              style=\"display:none;\">\n",
              "        \n",
              "  <svg xmlns=\"http://www.w3.org/2000/svg\" height=\"24px\"viewBox=\"0 0 24 24\"\n",
              "       width=\"24px\">\n",
              "    <path d=\"M0 0h24v24H0V0z\" fill=\"none\"/>\n",
              "    <path d=\"M18.56 5.44l.94 2.06.94-2.06 2.06-.94-2.06-.94-.94-2.06-.94 2.06-2.06.94zm-11 1L8.5 8.5l.94-2.06 2.06-.94-2.06-.94L8.5 2.5l-.94 2.06-2.06.94zm10 10l.94 2.06.94-2.06 2.06-.94-2.06-.94-.94-2.06-.94 2.06-2.06.94z\"/><path d=\"M17.41 7.96l-1.37-1.37c-.4-.4-.92-.59-1.43-.59-.52 0-1.04.2-1.43.59L10.3 9.45l-7.72 7.72c-.78.78-.78 2.05 0 2.83L4 21.41c.39.39.9.59 1.41.59.51 0 1.02-.2 1.41-.59l7.78-7.78 2.81-2.81c.8-.78.8-2.07 0-2.86zM5.41 20L4 18.59l7.72-7.72 1.47 1.35L5.41 20z\"/>\n",
              "  </svg>\n",
              "      </button>\n",
              "      \n",
              "  <style>\n",
              "    .colab-df-container {\n",
              "      display:flex;\n",
              "      flex-wrap:wrap;\n",
              "      gap: 12px;\n",
              "    }\n",
              "\n",
              "    .colab-df-convert {\n",
              "      background-color: #E8F0FE;\n",
              "      border: none;\n",
              "      border-radius: 50%;\n",
              "      cursor: pointer;\n",
              "      display: none;\n",
              "      fill: #1967D2;\n",
              "      height: 32px;\n",
              "      padding: 0 0 0 0;\n",
              "      width: 32px;\n",
              "    }\n",
              "\n",
              "    .colab-df-convert:hover {\n",
              "      background-color: #E2EBFA;\n",
              "      box-shadow: 0px 1px 2px rgba(60, 64, 67, 0.3), 0px 1px 3px 1px rgba(60, 64, 67, 0.15);\n",
              "      fill: #174EA6;\n",
              "    }\n",
              "\n",
              "    [theme=dark] .colab-df-convert {\n",
              "      background-color: #3B4455;\n",
              "      fill: #D2E3FC;\n",
              "    }\n",
              "\n",
              "    [theme=dark] .colab-df-convert:hover {\n",
              "      background-color: #434B5C;\n",
              "      box-shadow: 0px 1px 3px 1px rgba(0, 0, 0, 0.15);\n",
              "      filter: drop-shadow(0px 1px 2px rgba(0, 0, 0, 0.3));\n",
              "      fill: #FFFFFF;\n",
              "    }\n",
              "  </style>\n",
              "\n",
              "      <script>\n",
              "        const buttonEl =\n",
              "          document.querySelector('#df-03944706-c235-4cff-b28f-e4b9d069bed0 button.colab-df-convert');\n",
              "        buttonEl.style.display =\n",
              "          google.colab.kernel.accessAllowed ? 'block' : 'none';\n",
              "\n",
              "        async function convertToInteractive(key) {\n",
              "          const element = document.querySelector('#df-03944706-c235-4cff-b28f-e4b9d069bed0');\n",
              "          const dataTable =\n",
              "            await google.colab.kernel.invokeFunction('convertToInteractive',\n",
              "                                                     [key], {});\n",
              "          if (!dataTable) return;\n",
              "\n",
              "          const docLinkHtml = 'Like what you see? Visit the ' +\n",
              "            '<a target=\"_blank\" href=https://colab.research.google.com/notebooks/data_table.ipynb>data table notebook</a>'\n",
              "            + ' to learn more about interactive tables.';\n",
              "          element.innerHTML = '';\n",
              "          dataTable['output_type'] = 'display_data';\n",
              "          await google.colab.output.renderOutput(dataTable, element);\n",
              "          const docLink = document.createElement('div');\n",
              "          docLink.innerHTML = docLinkHtml;\n",
              "          element.appendChild(docLink);\n",
              "        }\n",
              "      </script>\n",
              "    </div>\n",
              "  </div>\n",
              "  "
            ],
            "text/plain": [
              "                 id     clonesize      honeybee       bumbles       andrena  \\\n",
              "count  15289.000000  15289.000000  15289.000000  15289.000000  15289.000000   \n",
              "mean    7644.000000     19.704690      0.389314      0.286768      0.492675   \n",
              "std     4413.698468      6.595211      0.361643      0.059917      0.148115   \n",
              "min        0.000000     10.000000      0.000000      0.000000      0.000000   \n",
              "25%     3822.000000     12.500000      0.250000      0.250000      0.380000   \n",
              "50%     7644.000000     25.000000      0.500000      0.250000      0.500000   \n",
              "75%    11466.000000     25.000000      0.500000      0.380000      0.630000   \n",
              "max    15288.000000     40.000000     18.430000      0.585000      0.750000   \n",
              "\n",
              "              osmia  MaxOfUpperTRange  MinOfUpperTRange  AverageOfUpperTRange  \\\n",
              "count  15289.000000      15289.000000      15289.000000          15289.000000   \n",
              "mean       0.592355         82.169887         49.673281             68.656256   \n",
              "std        0.139489          9.146703          5.546405              7.641807   \n",
              "min        0.000000         69.700000         39.000000             58.200000   \n",
              "25%        0.500000         77.400000         46.800000             64.700000   \n",
              "50%        0.630000         86.000000         52.000000             71.900000   \n",
              "75%        0.750000         86.000000         52.000000             71.900000   \n",
              "max        0.750000         94.600000         57.200000             79.000000   \n",
              "\n",
              "       MaxOfLowerTRange  MinOfLowerTRange  AverageOfLowerTRange   RainingDays  \\\n",
              "count      15289.000000      15289.000000          15289.000000  15289.000000   \n",
              "mean          59.229538         28.660553             48.568500     18.660865   \n",
              "std            6.610640          3.195367              5.390545     11.657582   \n",
              "min           50.200000         24.300000             41.200000      1.000000   \n",
              "25%           55.800000         27.000000             45.800000     16.000000   \n",
              "50%           62.000000         30.000000             50.800000     16.000000   \n",
              "75%           62.000000         30.000000             50.800000     24.000000   \n",
              "max           68.200000         33.000000             55.900000     34.000000   \n",
              "\n",
              "       AverageRainingDays      fruitset     fruitmass         seeds  \\\n",
              "count        15289.000000  15289.000000  15289.000000  15289.000000   \n",
              "mean             0.324176      0.502741      0.446553     36.164950   \n",
              "std              0.163905      0.074390      0.037035      4.031087   \n",
              "min              0.060000      0.192732      0.311921     22.079199   \n",
              "25%              0.260000      0.458246      0.419216     33.232449   \n",
              "50%              0.260000      0.506600      0.446570     36.040675   \n",
              "75%              0.390000      0.560445      0.474134     39.158238   \n",
              "max              0.560000      0.652144      0.535660     46.585105   \n",
              "\n",
              "              yield  \n",
              "count  15289.000000  \n",
              "mean    6025.193999  \n",
              "std     1337.056850  \n",
              "min     1945.530610  \n",
              "25%     5128.163510  \n",
              "50%     6117.475900  \n",
              "75%     7019.694380  \n",
              "max     8969.401840  "
            ]
          },
          "execution_count": 6,
          "metadata": {},
          "output_type": "execute_result"
        }
      ],
      "source": [
        "import numpy as np\n",
        "df.describe(include=(np.number))"
      ]
    },
    {
      "cell_type": "code",
      "execution_count": null,
      "metadata": {
        "colab": {
          "base_uri": "https://localhost:8080/"
        },
        "id": "qz63Ik7dpcO4",
        "outputId": "bd92df16-376f-469c-8748-b7b116f79261"
      },
      "outputs": [
        {
          "data": {
            "text/plain": [
              "id                      0\n",
              "clonesize               0\n",
              "honeybee                0\n",
              "bumbles                 0\n",
              "andrena                 0\n",
              "osmia                   0\n",
              "MaxOfUpperTRange        0\n",
              "MinOfUpperTRange        0\n",
              "AverageOfUpperTRange    0\n",
              "MaxOfLowerTRange        0\n",
              "MinOfLowerTRange        0\n",
              "AverageOfLowerTRange    0\n",
              "RainingDays             0\n",
              "AverageRainingDays      0\n",
              "fruitset                0\n",
              "fruitmass               0\n",
              "seeds                   0\n",
              "yield                   0\n",
              "dtype: int64"
            ]
          },
          "execution_count": 6,
          "metadata": {},
          "output_type": "execute_result"
        }
      ],
      "source": [
        "df.isna().sum()"
      ]
    },
    {
      "cell_type": "code",
      "execution_count": null,
      "metadata": {
        "colab": {
          "base_uri": "https://localhost:8080/",
          "height": 1000
        },
        "id": "vygXox-15KS2",
        "outputId": "df977bc9-0b03-490e-cd34-811fe2117a32"
      },
      "outputs": [
        {
          "data": {
            "text/plain": [
              "Text(0.5, 1.0, 'Correlation ')"
            ]
          },
          "execution_count": 7,
          "metadata": {},
          "output_type": "execute_result"
        },
        {
          "data": {
            "image/png": "[encoded data removed]",
            "text/plain": [
              "<Figure size 1500x1200 with 2 Axes>"
            ]
          },
          "metadata": {},
          "output_type": "display_data"
        }
      ],
      "source": [
        "import seaborn as sns\n",
        "import matplotlib.pyplot as plt\n",
        "corr=df.corr()\n",
        "fig = plt.figure(figsize=(15,12))\n",
        "r = sns.heatmap(corr, cmap=\"tab10\")\n",
        "r.set_title(\"Correlation \")"
      ]
    },
    {
      "cell_type": "code",
      "execution_count": null,
      "metadata": {
        "colab": {
          "base_uri": "https://localhost:8080/"
        },
        "id": "evCXblqb5NcM",
        "outputId": "0da0cf91-ecad-412b-f044-10911ee2f587"
      },
      "outputs": [
        {
          "data": {
            "text/plain": [
              "yield                   1.000000\n",
              "fruitset                0.885967\n",
              "seeds                   0.868853\n",
              "fruitmass               0.826481\n",
              "osmia                   0.198264\n",
              "bumbles                 0.161145\n",
              "andrena                 0.073969\n",
              "id                      0.000975\n",
              "MinOfUpperTRange       -0.021929\n",
              "AverageOfUpperTRange   -0.021940\n",
              "AverageOfLowerTRange   -0.022081\n",
              "MaxOfLowerTRange       -0.022197\n",
              "MinOfLowerTRange       -0.022319\n",
              "MaxOfUpperTRange       -0.022517\n",
              "honeybee               -0.118001\n",
              "clonesize              -0.382619\n",
              "RainingDays            -0.477191\n",
              "AverageRainingDays     -0.483870\n",
              "Name: yield, dtype: float64"
            ]
          },
          "execution_count": 8,
          "metadata": {},
          "output_type": "execute_result"
        }
      ],
      "source": [
        "#target correlation\n",
        "corr.sort_values(by=[\"yield\"],ascending=False).iloc[0].sort_values(ascending=False)"
      ]
    },
    {
      "cell_type": "code",
      "execution_count": null,
      "metadata": {
        "colab": {
          "base_uri": "https://localhost:8080/",
          "height": 270
        },
        "id": "OySmxUQ-j1ml",
        "outputId": "4c6d1ff8-1a0a-4c19-9494-3773e483ec77"
      },
      "outputs": [
        {
          "data": {
            "text/html": [
              "\n",
              "  <div id=\"df-c78c88f2-aaef-45e8-a607-3a796f6b8c0e\">\n",
              "    <div class=\"colab-df-container\">\n",
              "      <div>\n",
              "<style scoped>\n",
              "    .dataframe tbody tr th:only-of-type {\n",
              "        vertical-align: middle;\n",
              "    }\n",
              "\n",
              "    .dataframe tbody tr th {\n",
              "        vertical-align: top;\n",
              "    }\n",
              "\n",
              "    .dataframe thead th {\n",
              "        text-align: right;\n",
              "    }\n",
              "</style>\n",
              "<table border=\"1\" class=\"dataframe\">\n",
              "  <thead>\n",
              "    <tr style=\"text-align: right;\">\n",
              "      <th></th>\n",
              "      <th>id</th>\n",
              "      <th>clonesize</th>\n",
              "      <th>honeybee</th>\n",
              "      <th>bumbles</th>\n",
              "      <th>andrena</th>\n",
              "      <th>osmia</th>\n",
              "      <th>MaxOfUpperTRange</th>\n",
              "      <th>MinOfUpperTRange</th>\n",
              "      <th>AverageOfUpperTRange</th>\n",
              "      <th>MaxOfLowerTRange</th>\n",
              "      <th>MinOfLowerTRange</th>\n",
              "      <th>AverageOfLowerTRange</th>\n",
              "      <th>RainingDays</th>\n",
              "      <th>AverageRainingDays</th>\n",
              "      <th>fruitset</th>\n",
              "      <th>fruitmass</th>\n",
              "      <th>seeds</th>\n",
              "      <th>yield</th>\n",
              "    </tr>\n",
              "  </thead>\n",
              "  <tbody>\n",
              "    <tr>\n",
              "      <th>0</th>\n",
              "      <td>0</td>\n",
              "      <td>25.0</td>\n",
              "      <td>0.50</td>\n",
              "      <td>0.25</td>\n",
              "      <td>0.75</td>\n",
              "      <td>0.50</td>\n",
              "      <td>69.7</td>\n",
              "      <td>42.1</td>\n",
              "      <td>58.2</td>\n",
              "      <td>50.2</td>\n",
              "      <td>24.3</td>\n",
              "      <td>41.2</td>\n",
              "      <td>24.0</td>\n",
              "      <td>0.39</td>\n",
              "      <td>0.425011</td>\n",
              "      <td>0.417545</td>\n",
              "      <td>32.460887</td>\n",
              "      <td>4476.81146</td>\n",
              "    </tr>\n",
              "    <tr>\n",
              "      <th>1</th>\n",
              "      <td>1</td>\n",
              "      <td>25.0</td>\n",
              "      <td>0.50</td>\n",
              "      <td>0.25</td>\n",
              "      <td>0.50</td>\n",
              "      <td>0.50</td>\n",
              "      <td>69.7</td>\n",
              "      <td>42.1</td>\n",
              "      <td>58.2</td>\n",
              "      <td>50.2</td>\n",
              "      <td>24.3</td>\n",
              "      <td>41.2</td>\n",
              "      <td>24.0</td>\n",
              "      <td>0.39</td>\n",
              "      <td>0.444908</td>\n",
              "      <td>0.422051</td>\n",
              "      <td>33.858317</td>\n",
              "      <td>5548.12201</td>\n",
              "    </tr>\n",
              "    <tr>\n",
              "      <th>2</th>\n",
              "      <td>2</td>\n",
              "      <td>12.5</td>\n",
              "      <td>0.25</td>\n",
              "      <td>0.25</td>\n",
              "      <td>0.63</td>\n",
              "      <td>0.63</td>\n",
              "      <td>86.0</td>\n",
              "      <td>52.0</td>\n",
              "      <td>71.9</td>\n",
              "      <td>62.0</td>\n",
              "      <td>30.0</td>\n",
              "      <td>50.8</td>\n",
              "      <td>24.0</td>\n",
              "      <td>0.39</td>\n",
              "      <td>0.552927</td>\n",
              "      <td>0.470853</td>\n",
              "      <td>38.341781</td>\n",
              "      <td>6869.77760</td>\n",
              "    </tr>\n",
              "    <tr>\n",
              "      <th>3</th>\n",
              "      <td>3</td>\n",
              "      <td>12.5</td>\n",
              "      <td>0.25</td>\n",
              "      <td>0.25</td>\n",
              "      <td>0.63</td>\n",
              "      <td>0.50</td>\n",
              "      <td>77.4</td>\n",
              "      <td>46.8</td>\n",
              "      <td>64.7</td>\n",
              "      <td>55.8</td>\n",
              "      <td>27.0</td>\n",
              "      <td>45.8</td>\n",
              "      <td>24.0</td>\n",
              "      <td>0.39</td>\n",
              "      <td>0.565976</td>\n",
              "      <td>0.478137</td>\n",
              "      <td>39.467561</td>\n",
              "      <td>6880.77590</td>\n",
              "    </tr>\n",
              "    <tr>\n",
              "      <th>4</th>\n",
              "      <td>4</td>\n",
              "      <td>25.0</td>\n",
              "      <td>0.50</td>\n",
              "      <td>0.25</td>\n",
              "      <td>0.63</td>\n",
              "      <td>0.63</td>\n",
              "      <td>77.4</td>\n",
              "      <td>46.8</td>\n",
              "      <td>64.7</td>\n",
              "      <td>55.8</td>\n",
              "      <td>27.0</td>\n",
              "      <td>45.8</td>\n",
              "      <td>24.0</td>\n",
              "      <td>0.39</td>\n",
              "      <td>0.579677</td>\n",
              "      <td>0.494165</td>\n",
              "      <td>40.484512</td>\n",
              "      <td>7479.93417</td>\n",
              "    </tr>\n",
              "  </tbody>\n",
              "</table>\n",
              "</div>\n",
              "      <button class=\"colab-df-convert\" onclick=\"convertToInteractive('df-c78c88f2-aaef-45e8-a607-3a796f6b8c0e')\"\n",
              "              title=\"Convert this dataframe to an interactive table.\"\n",
              "              style=\"display:none;\">\n",
              "        \n",
              "  <svg xmlns=\"http://www.w3.org/2000/svg\" height=\"24px\"viewBox=\"0 0 24 24\"\n",
              "       width=\"24px\">\n",
              "    <path d=\"M0 0h24v24H0V0z\" fill=\"none\"/>\n",
              "    <path d=\"M18.56 5.44l.94 2.06.94-2.06 2.06-.94-2.06-.94-.94-2.06-.94 2.06-2.06.94zm-11 1L8.5 8.5l.94-2.06 2.06-.94-2.06-.94L8.5 2.5l-.94 2.06-2.06.94zm10 10l.94 2.06.94-2.06 2.06-.94-2.06-.94-.94-2.06-.94 2.06-2.06.94z\"/><path d=\"M17.41 7.96l-1.37-1.37c-.4-.4-.92-.59-1.43-.59-.52 0-1.04.2-1.43.59L10.3 9.45l-7.72 7.72c-.78.78-.78 2.05 0 2.83L4 21.41c.39.39.9.59 1.41.59.51 0 1.02-.2 1.41-.59l7.78-7.78 2.81-2.81c.8-.78.8-2.07 0-2.86zM5.41 20L4 18.59l7.72-7.72 1.47 1.35L5.41 20z\"/>\n",
              "  </svg>\n",
              "      </button>\n",
              "      \n",
              "  <style>\n",
              "    .colab-df-container {\n",
              "      display:flex;\n",
              "      flex-wrap:wrap;\n",
              "      gap: 12px;\n",
              "    }\n",
              "\n",
              "    .colab-df-convert {\n",
              "      background-color: #E8F0FE;\n",
              "      border: none;\n",
              "      border-radius: 50%;\n",
              "      cursor: pointer;\n",
              "      display: none;\n",
              "      fill: #1967D2;\n",
              "      height: 32px;\n",
              "      padding: 0 0 0 0;\n",
              "      width: 32px;\n",
              "    }\n",
              "\n",
              "    .colab-df-convert:hover {\n",
              "      background-color: #E2EBFA;\n",
              "      box-shadow: 0px 1px 2px rgba(60, 64, 67, 0.3), 0px 1px 3px 1px rgba(60, 64, 67, 0.15);\n",
              "      fill: #174EA6;\n",
              "    }\n",
              "\n",
              "    [theme=dark] .colab-df-convert {\n",
              "      background-color: #3B4455;\n",
              "      fill: #D2E3FC;\n",
              "    }\n",
              "\n",
              "    [theme=dark] .colab-df-convert:hover {\n",
              "      background-color: #434B5C;\n",
              "      box-shadow: 0px 1px 3px 1px rgba(0, 0, 0, 0.15);\n",
              "      filter: drop-shadow(0px 1px 2px rgba(0, 0, 0, 0.3));\n",
              "      fill: #FFFFFF;\n",
              "    }\n",
              "  </style>\n",
              "\n",
              "      <script>\n",
              "        const buttonEl =\n",
              "          document.querySelector('#df-c78c88f2-aaef-45e8-a607-3a796f6b8c0e button.colab-df-convert');\n",
              "        buttonEl.style.display =\n",
              "          google.colab.kernel.accessAllowed ? 'block' : 'none';\n",
              "\n",
              "        async function convertToInteractive(key) {\n",
              "          const element = document.querySelector('#df-c78c88f2-aaef-45e8-a607-3a796f6b8c0e');\n",
              "          const dataTable =\n",
              "            await google.colab.kernel.invokeFunction('convertToInteractive',\n",
              "                                                     [key], {});\n",
              "          if (!dataTable) return;\n",
              "\n",
              "          const docLinkHtml = 'Like what you see? Visit the ' +\n",
              "            '<a target=\"_blank\" href=https://colab.research.google.com/notebooks/data_table.ipynb>data table notebook</a>'\n",
              "            + ' to learn more about interactive tables.';\n",
              "          element.innerHTML = '';\n",
              "          dataTable['output_type'] = 'display_data';\n",
              "          await google.colab.output.renderOutput(dataTable, element);\n",
              "          const docLink = document.createElement('div');\n",
              "          docLink.innerHTML = docLinkHtml;\n",
              "          element.appendChild(docLink);\n",
              "        }\n",
              "      </script>\n",
              "    </div>\n",
              "  </div>\n",
              "  "
            ],
            "text/plain": [
              "   id  clonesize  honeybee  bumbles  andrena  osmia  MaxOfUpperTRange  \\\n",
              "0   0       25.0      0.50     0.25     0.75   0.50              69.7   \n",
              "1   1       25.0      0.50     0.25     0.50   0.50              69.7   \n",
              "2   2       12.5      0.25     0.25     0.63   0.63              86.0   \n",
              "3   3       12.5      0.25     0.25     0.63   0.50              77.4   \n",
              "4   4       25.0      0.50     0.25     0.63   0.63              77.4   \n",
              "\n",
              "   MinOfUpperTRange  AverageOfUpperTRange  MaxOfLowerTRange  MinOfLowerTRange  \\\n",
              "0              42.1                  58.2              50.2              24.3   \n",
              "1              42.1                  58.2              50.2              24.3   \n",
              "2              52.0                  71.9              62.0              30.0   \n",
              "3              46.8                  64.7              55.8              27.0   \n",
              "4              46.8                  64.7              55.8              27.0   \n",
              "\n",
              "   AverageOfLowerTRange  RainingDays  AverageRainingDays  fruitset  fruitmass  \\\n",
              "0                  41.2         24.0                0.39  0.425011   0.417545   \n",
              "1                  41.2         24.0                0.39  0.444908   0.422051   \n",
              "2                  50.8         24.0                0.39  0.552927   0.470853   \n",
              "3                  45.8         24.0                0.39  0.565976   0.478137   \n",
              "4                  45.8         24.0                0.39  0.579677   0.494165   \n",
              "\n",
              "       seeds       yield  \n",
              "0  32.460887  4476.81146  \n",
              "1  33.858317  5548.12201  \n",
              "2  38.341781  6869.77760  \n",
              "3  39.467561  6880.77590  \n",
              "4  40.484512  7479.93417  "
            ]
          },
          "execution_count": 9,
          "metadata": {},
          "output_type": "execute_result"
        }
      ],
      "source": [
        "df.head()"
      ]
    },
    {
      "cell_type": "code",
      "execution_count": null,
      "metadata": {
        "id": "UMoC0sRc0TfN"
      },
      "outputs": [],
      "source": [
        "y=df['yield']"
      ]
    },
    {
      "cell_type": "code",
      "execution_count": null,
      "metadata": {
        "id": "TYFJ5XfQ0b54"
      },
      "outputs": [],
      "source": [
        "X=df.drop(['yield','id'],axis=1)"
      ]
    },
    {
      "cell_type": "code",
      "execution_count": null,
      "metadata": {
        "id": "52BLNlu9BMPq"
      },
      "outputs": [],
      "source": [
        "import matplotlib.pyplot as plt\n",
        "df.hist(bins=50, figsize=(20,15))\n",
        "plt.show()"
      ]
    },
    {
      "cell_type": "code",
      "execution_count": null,
      "metadata": {
        "colab": {
          "base_uri": "https://localhost:8080/",
          "height": 364
        },
        "id": "w50jxk-BB7uX",
        "outputId": "2680bcc7-2db9-4901-d1e2-0384e67e4ede"
      },
      "outputs": [
        {
          "data": {
            "text/html": [
              "\n",
              "  <div id=\"df-54e00a46-64a8-474e-bc79-f8f8555b2ae1\">\n",
              "    <div class=\"colab-df-container\">\n",
              "      <div>\n",
              "<style scoped>\n",
              "    .dataframe tbody tr th:only-of-type {\n",
              "        vertical-align: middle;\n",
              "    }\n",
              "\n",
              "    .dataframe tbody tr th {\n",
              "        vertical-align: top;\n",
              "    }\n",
              "\n",
              "    .dataframe thead th {\n",
              "        text-align: right;\n",
              "    }\n",
              "</style>\n",
              "<table border=\"1\" class=\"dataframe\">\n",
              "  <thead>\n",
              "    <tr style=\"text-align: right;\">\n",
              "      <th></th>\n",
              "      <th>id</th>\n",
              "      <th>clonesize</th>\n",
              "      <th>honeybee</th>\n",
              "      <th>bumbles</th>\n",
              "      <th>andrena</th>\n",
              "      <th>osmia</th>\n",
              "      <th>MaxOfUpperTRange</th>\n",
              "      <th>MinOfUpperTRange</th>\n",
              "      <th>AverageOfUpperTRange</th>\n",
              "      <th>MaxOfLowerTRange</th>\n",
              "      <th>MinOfLowerTRange</th>\n",
              "      <th>AverageOfLowerTRange</th>\n",
              "      <th>RainingDays</th>\n",
              "      <th>AverageRainingDays</th>\n",
              "      <th>fruitset</th>\n",
              "      <th>fruitmass</th>\n",
              "      <th>seeds</th>\n",
              "      <th>yield</th>\n",
              "    </tr>\n",
              "  </thead>\n",
              "  <tbody>\n",
              "    <tr>\n",
              "      <th>count</th>\n",
              "      <td>15289.000000</td>\n",
              "      <td>15289.000000</td>\n",
              "      <td>15289.000000</td>\n",
              "      <td>15289.000000</td>\n",
              "      <td>15289.000000</td>\n",
              "      <td>15289.000000</td>\n",
              "      <td>15289.000000</td>\n",
              "      <td>15289.000000</td>\n",
              "      <td>15289.000000</td>\n",
              "      <td>15289.000000</td>\n",
              "      <td>15289.000000</td>\n",
              "      <td>15289.000000</td>\n",
              "      <td>15289.000000</td>\n",
              "      <td>15289.000000</td>\n",
              "      <td>15289.000000</td>\n",
              "      <td>15289.000000</td>\n",
              "      <td>15289.000000</td>\n",
              "      <td>15289.000000</td>\n",
              "    </tr>\n",
              "    <tr>\n",
              "      <th>mean</th>\n",
              "      <td>7644.000000</td>\n",
              "      <td>19.704690</td>\n",
              "      <td>0.389314</td>\n",
              "      <td>0.286768</td>\n",
              "      <td>0.492675</td>\n",
              "      <td>0.592355</td>\n",
              "      <td>82.169887</td>\n",
              "      <td>49.673281</td>\n",
              "      <td>68.656256</td>\n",
              "      <td>59.229538</td>\n",
              "      <td>28.660553</td>\n",
              "      <td>48.568500</td>\n",
              "      <td>18.660865</td>\n",
              "      <td>0.324176</td>\n",
              "      <td>0.502741</td>\n",
              "      <td>0.446553</td>\n",
              "      <td>36.164950</td>\n",
              "      <td>6025.193999</td>\n",
              "    </tr>\n",
              "    <tr>\n",
              "      <th>std</th>\n",
              "      <td>4413.698468</td>\n",
              "      <td>6.595211</td>\n",
              "      <td>0.361643</td>\n",
              "      <td>0.059917</td>\n",
              "      <td>0.148115</td>\n",
              "      <td>0.139489</td>\n",
              "      <td>9.146703</td>\n",
              "      <td>5.546405</td>\n",
              "      <td>7.641807</td>\n",
              "      <td>6.610640</td>\n",
              "      <td>3.195367</td>\n",
              "      <td>5.390545</td>\n",
              "      <td>11.657582</td>\n",
              "      <td>0.163905</td>\n",
              "      <td>0.074390</td>\n",
              "      <td>0.037035</td>\n",
              "      <td>4.031087</td>\n",
              "      <td>1337.056850</td>\n",
              "    </tr>\n",
              "    <tr>\n",
              "      <th>min</th>\n",
              "      <td>0.000000</td>\n",
              "      <td>10.000000</td>\n",
              "      <td>0.000000</td>\n",
              "      <td>0.000000</td>\n",
              "      <td>0.000000</td>\n",
              "      <td>0.000000</td>\n",
              "      <td>69.700000</td>\n",
              "      <td>39.000000</td>\n",
              "      <td>58.200000</td>\n",
              "      <td>50.200000</td>\n",
              "      <td>24.300000</td>\n",
              "      <td>41.200000</td>\n",
              "      <td>1.000000</td>\n",
              "      <td>0.060000</td>\n",
              "      <td>0.192732</td>\n",
              "      <td>0.311921</td>\n",
              "      <td>22.079199</td>\n",
              "      <td>1945.530610</td>\n",
              "    </tr>\n",
              "    <tr>\n",
              "      <th>25%</th>\n",
              "      <td>3822.000000</td>\n",
              "      <td>12.500000</td>\n",
              "      <td>0.250000</td>\n",
              "      <td>0.250000</td>\n",
              "      <td>0.380000</td>\n",
              "      <td>0.500000</td>\n",
              "      <td>77.400000</td>\n",
              "      <td>46.800000</td>\n",
              "      <td>64.700000</td>\n",
              "      <td>55.800000</td>\n",
              "      <td>27.000000</td>\n",
              "      <td>45.800000</td>\n",
              "      <td>16.000000</td>\n",
              "      <td>0.260000</td>\n",
              "      <td>0.458246</td>\n",
              "      <td>0.419216</td>\n",
              "      <td>33.232449</td>\n",
              "      <td>5128.163510</td>\n",
              "    </tr>\n",
              "    <tr>\n",
              "      <th>50%</th>\n",
              "      <td>7644.000000</td>\n",
              "      <td>25.000000</td>\n",
              "      <td>0.500000</td>\n",
              "      <td>0.250000</td>\n",
              "      <td>0.500000</td>\n",
              "      <td>0.630000</td>\n",
              "      <td>86.000000</td>\n",
              "      <td>52.000000</td>\n",
              "      <td>71.900000</td>\n",
              "      <td>62.000000</td>\n",
              "      <td>30.000000</td>\n",
              "      <td>50.800000</td>\n",
              "      <td>16.000000</td>\n",
              "      <td>0.260000</td>\n",
              "      <td>0.506600</td>\n",
              "      <td>0.446570</td>\n",
              "      <td>36.040675</td>\n",
              "      <td>6117.475900</td>\n",
              "    </tr>\n",
              "    <tr>\n",
              "      <th>75%</th>\n",
              "      <td>11466.000000</td>\n",
              "      <td>25.000000</td>\n",
              "      <td>0.500000</td>\n",
              "      <td>0.380000</td>\n",
              "      <td>0.630000</td>\n",
              "      <td>0.750000</td>\n",
              "      <td>86.000000</td>\n",
              "      <td>52.000000</td>\n",
              "      <td>71.900000</td>\n",
              "      <td>62.000000</td>\n",
              "      <td>30.000000</td>\n",
              "      <td>50.800000</td>\n",
              "      <td>24.000000</td>\n",
              "      <td>0.390000</td>\n",
              "      <td>0.560445</td>\n",
              "      <td>0.474134</td>\n",
              "      <td>39.158238</td>\n",
              "      <td>7019.694380</td>\n",
              "    </tr>\n",
              "    <tr>\n",
              "      <th>max</th>\n",
              "      <td>15288.000000</td>\n",
              "      <td>40.000000</td>\n",
              "      <td>18.430000</td>\n",
              "      <td>0.585000</td>\n",
              "      <td>0.750000</td>\n",
              "      <td>0.750000</td>\n",
              "      <td>94.600000</td>\n",
              "      <td>57.200000</td>\n",
              "      <td>79.000000</td>\n",
              "      <td>68.200000</td>\n",
              "      <td>33.000000</td>\n",
              "      <td>55.900000</td>\n",
              "      <td>34.000000</td>\n",
              "      <td>0.560000</td>\n",
              "      <td>0.652144</td>\n",
              "      <td>0.535660</td>\n",
              "      <td>46.585105</td>\n",
              "      <td>8969.401840</td>\n",
              "    </tr>\n",
              "  </tbody>\n",
              "</table>\n",
              "</div>\n",
              "      <button class=\"colab-df-convert\" onclick=\"convertToInteractive('df-54e00a46-64a8-474e-bc79-f8f8555b2ae1')\"\n",
              "              title=\"Convert this dataframe to an interactive table.\"\n",
              "              style=\"display:none;\">\n",
              "        \n",
              "  <svg xmlns=\"http://www.w3.org/2000/svg\" height=\"24px\"viewBox=\"0 0 24 24\"\n",
              "       width=\"24px\">\n",
              "    <path d=\"M0 0h24v24H0V0z\" fill=\"none\"/>\n",
              "    <path d=\"M18.56 5.44l.94 2.06.94-2.06 2.06-.94-2.06-.94-.94-2.06-.94 2.06-2.06.94zm-11 1L8.5 8.5l.94-2.06 2.06-.94-2.06-.94L8.5 2.5l-.94 2.06-2.06.94zm10 10l.94 2.06.94-2.06 2.06-.94-2.06-.94-.94-2.06-.94 2.06-2.06.94z\"/><path d=\"M17.41 7.96l-1.37-1.37c-.4-.4-.92-.59-1.43-.59-.52 0-1.04.2-1.43.59L10.3 9.45l-7.72 7.72c-.78.78-.78 2.05 0 2.83L4 21.41c.39.39.9.59 1.41.59.51 0 1.02-.2 1.41-.59l7.78-7.78 2.81-2.81c.8-.78.8-2.07 0-2.86zM5.41 20L4 18.59l7.72-7.72 1.47 1.35L5.41 20z\"/>\n",
              "  </svg>\n",
              "      </button>\n",
              "      \n",
              "  <style>\n",
              "    .colab-df-container {\n",
              "      display:flex;\n",
              "      flex-wrap:wrap;\n",
              "      gap: 12px;\n",
              "    }\n",
              "\n",
              "    .colab-df-convert {\n",
              "      background-color: #E8F0FE;\n",
              "      border: none;\n",
              "      border-radius: 50%;\n",
              "      cursor: pointer;\n",
              "      display: none;\n",
              "      fill: #1967D2;\n",
              "      height: 32px;\n",
              "      padding: 0 0 0 0;\n",
              "      width: 32px;\n",
              "    }\n",
              "\n",
              "    .colab-df-convert:hover {\n",
              "      background-color: #E2EBFA;\n",
              "      box-shadow: 0px 1px 2px rgba(60, 64, 67, 0.3), 0px 1px 3px 1px rgba(60, 64, 67, 0.15);\n",
              "      fill: #174EA6;\n",
              "    }\n",
              "\n",
              "    [theme=dark] .colab-df-convert {\n",
              "      background-color: #3B4455;\n",
              "      fill: #D2E3FC;\n",
              "    }\n",
              "\n",
              "    [theme=dark] .colab-df-convert:hover {\n",
              "      background-color: #434B5C;\n",
              "      box-shadow: 0px 1px 3px 1px rgba(0, 0, 0, 0.15);\n",
              "      filter: drop-shadow(0px 1px 2px rgba(0, 0, 0, 0.3));\n",
              "      fill: #FFFFFF;\n",
              "    }\n",
              "  </style>\n",
              "\n",
              "      <script>\n",
              "        const buttonEl =\n",
              "          document.querySelector('#df-54e00a46-64a8-474e-bc79-f8f8555b2ae1 button.colab-df-convert');\n",
              "        buttonEl.style.display =\n",
              "          google.colab.kernel.accessAllowed ? 'block' : 'none';\n",
              "\n",
              "        async function convertToInteractive(key) {\n",
              "          const element = document.querySelector('#df-54e00a46-64a8-474e-bc79-f8f8555b2ae1');\n",
              "          const dataTable =\n",
              "            await google.colab.kernel.invokeFunction('convertToInteractive',\n",
              "                                                     [key], {});\n",
              "          if (!dataTable) return;\n",
              "\n",
              "          const docLinkHtml = 'Like what you see? Visit the ' +\n",
              "            '<a target=\"_blank\" href=https://colab.research.google.com/notebooks/data_table.ipynb>data table notebook</a>'\n",
              "            + ' to learn more about interactive tables.';\n",
              "          element.innerHTML = '';\n",
              "          dataTable['output_type'] = 'display_data';\n",
              "          await google.colab.output.renderOutput(dataTable, element);\n",
              "          const docLink = document.createElement('div');\n",
              "          docLink.innerHTML = docLinkHtml;\n",
              "          element.appendChild(docLink);\n",
              "        }\n",
              "      </script>\n",
              "    </div>\n",
              "  </div>\n",
              "  "
            ],
            "text/plain": [
              "                 id     clonesize      honeybee       bumbles       andrena  \\\n",
              "count  15289.000000  15289.000000  15289.000000  15289.000000  15289.000000   \n",
              "mean    7644.000000     19.704690      0.389314      0.286768      0.492675   \n",
              "std     4413.698468      6.595211      0.361643      0.059917      0.148115   \n",
              "min        0.000000     10.000000      0.000000      0.000000      0.000000   \n",
              "25%     3822.000000     12.500000      0.250000      0.250000      0.380000   \n",
              "50%     7644.000000     25.000000      0.500000      0.250000      0.500000   \n",
              "75%    11466.000000     25.000000      0.500000      0.380000      0.630000   \n",
              "max    15288.000000     40.000000     18.430000      0.585000      0.750000   \n",
              "\n",
              "              osmia  MaxOfUpperTRange  MinOfUpperTRange  AverageOfUpperTRange  \\\n",
              "count  15289.000000      15289.000000      15289.000000          15289.000000   \n",
              "mean       0.592355         82.169887         49.673281             68.656256   \n",
              "std        0.139489          9.146703          5.546405              7.641807   \n",
              "min        0.000000         69.700000         39.000000             58.200000   \n",
              "25%        0.500000         77.400000         46.800000             64.700000   \n",
              "50%        0.630000         86.000000         52.000000             71.900000   \n",
              "75%        0.750000         86.000000         52.000000             71.900000   \n",
              "max        0.750000         94.600000         57.200000             79.000000   \n",
              "\n",
              "       MaxOfLowerTRange  MinOfLowerTRange  AverageOfLowerTRange   RainingDays  \\\n",
              "count      15289.000000      15289.000000          15289.000000  15289.000000   \n",
              "mean          59.229538         28.660553             48.568500     18.660865   \n",
              "std            6.610640          3.195367              5.390545     11.657582   \n",
              "min           50.200000         24.300000             41.200000      1.000000   \n",
              "25%           55.800000         27.000000             45.800000     16.000000   \n",
              "50%           62.000000         30.000000             50.800000     16.000000   \n",
              "75%           62.000000         30.000000             50.800000     24.000000   \n",
              "max           68.200000         33.000000             55.900000     34.000000   \n",
              "\n",
              "       AverageRainingDays      fruitset     fruitmass         seeds  \\\n",
              "count        15289.000000  15289.000000  15289.000000  15289.000000   \n",
              "mean             0.324176      0.502741      0.446553     36.164950   \n",
              "std              0.163905      0.074390      0.037035      4.031087   \n",
              "min              0.060000      0.192732      0.311921     22.079199   \n",
              "25%              0.260000      0.458246      0.419216     33.232449   \n",
              "50%              0.260000      0.506600      0.446570     36.040675   \n",
              "75%              0.390000      0.560445      0.474134     39.158238   \n",
              "max              0.560000      0.652144      0.535660     46.585105   \n",
              "\n",
              "              yield  \n",
              "count  15289.000000  \n",
              "mean    6025.193999  \n",
              "std     1337.056850  \n",
              "min     1945.530610  \n",
              "25%     5128.163510  \n",
              "50%     6117.475900  \n",
              "75%     7019.694380  \n",
              "max     8969.401840  "
            ]
          },
          "execution_count": 13,
          "metadata": {},
          "output_type": "execute_result"
        }
      ],
      "source": [
        "df.describe()"
      ]
    },
    {
      "cell_type": "code",
      "execution_count": null,
      "metadata": {
        "id": "jTM2ZtMR0KWV"
      },
      "outputs": [],
      "source": [
        "# Standardising:    (RUN LATER)\n",
        "\n",
        "from sklearn.preprocessing import StandardScaler,MinMaxScaler\n",
        "scaler = StandardScaler()\n",
        "numerical_cols = list(X.select_dtypes(include=['int','float']))\n",
        "X_numerical = scaler.fit_transform(X[numerical_cols].values)"
      ]
    },
    {
      "cell_type": "code",
      "execution_count": null,
      "metadata": {
        "id": "PuEyj1ir1ICx"
      },
      "outputs": [],
      "source": [
        "from torch import tensor\n",
        "import torch\n",
        "t_dep = tensor(df['yield'])\n",
        "t_indep = tensor(X.values, dtype=torch.float)"
      ]
    },
    {
      "cell_type": "code",
      "execution_count": null,
      "metadata": {
        "colab": {
          "base_uri": "https://localhost:8080/"
        },
        "id": "5tNGDTNbs8EV",
        "outputId": "b05640d8-3b30-4d36-95a5-5e4f2203f2ff"
      },
      "outputs": [
        {
          "data": {
            "text/plain": [
              "torch.Size([15289, 16])"
            ]
          },
          "execution_count": 16,
          "metadata": {},
          "output_type": "execute_result"
        }
      ],
      "source": [
        "t_indep.shape"
      ]
    },
    {
      "cell_type": "code",
      "execution_count": null,
      "metadata": {
        "colab": {
          "base_uri": "https://localhost:8080/"
        },
        "id": "P2usnJeqs9zm",
        "outputId": "4099aedb-077a-4d79-f950-3c64592ba337"
      },
      "outputs": [
        {
          "data": {
            "text/plain": [
              "torch.Size([15289])"
            ]
          },
          "execution_count": 17,
          "metadata": {},
          "output_type": "execute_result"
        }
      ],
      "source": [
        "t_dep.shape"
      ]
    },
    {
      "cell_type": "code",
      "execution_count": null,
      "metadata": {
        "colab": {
          "base_uri": "https://localhost:8080/",
          "height": 123
        },
        "id": "Z1UmqHRNDKrW",
        "outputId": "575f9258-5aec-433d-e158-50f1afd1f333"
      },
      "outputs": [
        {
          "data": {
            "application/vnd.google.colaboratory.intrinsic+json": {
              "type": "string"
            },
            "text/plain": [
              "'   id  clonesize  honeybee  bumbles  andrena  osmia  MaxOfUpperTRange  MinOfUpperTRange  AverageOfUpperTRange  MaxOfLowerTRange  MinOfLowerTRange  AverageOfLowerTRange  RainingDays  AverageRainingDays  fruitset  fruitmass      seeds       yield\\n0   0       25.0      0.50     0.25     0.75   0.50              69.7              42.1                  58.2              50.2              24.3                  41.2         24.0                0.39  0.425011   0.417545  32.460887  4476.81146\\n1   1       25.0      0.50     0.25     0.50   0.50              69.7              42.1                  58.2              50.2              24.3                  41.2         24.0                0.39  0.444908   0.422051  33.858317  5548.12201\\n2   2       12.5      0.25     0.25     0.63   0.63              86.0              52.0                  71.9              62.0              30.0                  50.8         24.0                0.39  0.552927   0.470853  38.341781  6869.77760\\n3   3       12.5      0.25     0.25     0.63   0.50              77.4              46.8                  64.7              55.8              27.0                  45.8         24.0                0.39  0.565976   0.478137  39.467561  6880.77590\\n4   4       25.0      0.50     0.25     0.63   0.63              77.4              46.8                  64.7              55.8              27.0                  45.8         24.0                0.39  0.579677   0.494165  40.484512  7479.93417'"
            ]
          },
          "execution_count": 18,
          "metadata": {},
          "output_type": "execute_result"
        }
      ],
      "source": [
        "# IDK WHAT THIS IS\n",
        "\n",
        "df.head().to_string(max_colwidth=None)"
      ]
    },
    {
      "cell_type": "code",
      "execution_count": null,
      "metadata": {
        "colab": {
          "base_uri": "https://localhost:8080/"
        },
        "id": "5E9kRikgDD_R",
        "outputId": "512abcd8-0ba2-4919-ed83-f1cee97b9588"
      },
      "outputs": [
        {
          "data": {
            "text/plain": [
              "tensor([-0.4629,  0.1386,  0.2409, -0.2262, -0.2632, -0.3147,  0.4876,  0.3136,\n",
              "         0.2799, -0.4392,  0.2103,  0.3625,  0.1722,  0.2324, -0.3575, -0.0010])"
            ]
          },
          "execution_count": 11,
          "metadata": {},
          "output_type": "execute_result"
        }
      ],
      "source": [
        "torch.manual_seed(442)\n",
        "\n",
        "# REMEMBER TO ADD A DUMMY TERM (COLUMN OF ALL 1'S) LATER\n",
        "\n",
        "n_coeff = t_indep.shape[1]\n",
        "coeffs = torch.rand(n_coeff)-0.5\n",
        "coeffs"
      ]
    },
    {
      "cell_type": "code",
      "execution_count": null,
      "metadata": {
        "id": "0mExbObAESmx"
      },
      "outputs": [],
      "source": [
        "# Normalising\n",
        "vals,indices = t_indep.max(dim=0)\n",
        "t_indep = t_indep / vals"
      ]
    },
    {
      "cell_type": "code",
      "execution_count": null,
      "metadata": {
        "colab": {
          "base_uri": "https://localhost:8080/"
        },
        "id": "31bjMwdIuGl8",
        "outputId": "8f301b76-2131-43c0-d5ea-ef2a4e878e7c"
      },
      "outputs": [
        {
          "data": {
            "text/plain": [
              "tensor([[-0.2893,  0.0038,  0.1029,  ...,  0.1515, -0.2787, -0.0007],\n",
              "        [-0.2893,  0.0038,  0.1029,  ...,  0.1586, -0.2817, -0.0007],\n",
              "        [-0.1447,  0.0019,  0.1029,  ...,  0.1971, -0.3142, -0.0008],\n",
              "        ...,\n",
              "        [-0.2893,  0.0038,  0.1029,  ...,  0.1506, -0.2782, -0.0007],\n",
              "        [-0.2893,  0.0038,  0.1029,  ...,  0.1932, -0.2897, -0.0008],\n",
              "        [-0.2893,  0.0038,  0.1029,  ...,  0.1754, -0.2980, -0.0007]])"
            ]
          },
          "execution_count": 21,
          "metadata": {},
          "output_type": "execute_result"
        }
      ],
      "source": [
        "t_indep*coeffs"
      ]
    },
    {
      "cell_type": "code",
      "execution_count": null,
      "metadata": {
        "id": "jMOnNtVbuOes"
      },
      "outputs": [],
      "source": [
        "preds = (t_indep*coeffs).sum(axis=1)"
      ]
    },
    {
      "cell_type": "code",
      "execution_count": null,
      "metadata": {
        "colab": {
          "base_uri": "https://localhost:8080/"
        },
        "id": "8I445zCPEeyN",
        "outputId": "684844a3-d5db-4418-8200-9de5a8d0902b"
      },
      "outputs": [
        {
          "data": {
            "text/plain": [
              "tensor([ 0.0593,  0.1388,  0.2958,  0.2925,  0.0983,  0.3137,  0.3884, -0.1323,\n",
              "         0.1596,  0.3443])"
            ]
          },
          "execution_count": 23,
          "metadata": {},
          "output_type": "execute_result"
        }
      ],
      "source": [
        "preds[:10]"
      ]
    },
    {
      "cell_type": "code",
      "execution_count": null,
      "metadata": {
        "colab": {
          "base_uri": "https://localhost:8080/"
        },
        "id": "7OwlQ0RDud6s",
        "outputId": "8bb2af28-a2db-400c-dc00-101482b71393"
      },
      "outputs": [
        {
          "data": {
            "text/plain": [
              "tensor([4476.8115, 5548.1220, 6869.7776, 6880.7759, 7479.9342, 7267.2834,\n",
              "        5739.6803, 7920.0617, 6465.3720, 3519.4313], dtype=torch.float64)"
            ]
          },
          "execution_count": 24,
          "metadata": {},
          "output_type": "execute_result"
        }
      ],
      "source": [
        "t_dep[:10]"
      ]
    },
    {
      "cell_type": "code",
      "execution_count": null,
      "metadata": {
        "colab": {
          "base_uri": "https://localhost:8080/"
        },
        "id": "gQG0nPn7Ejcc",
        "outputId": "7fb89acc-15ae-4bd4-d024-91afc62ce265"
      },
      "outputs": [
        {
          "data": {
            "text/plain": [
              "tensor(6025.0115, dtype=torch.float64)"
            ]
          },
          "execution_count": 14,
          "metadata": {},
          "output_type": "execute_result"
        }
      ],
      "source": [
        "loss = torch.abs(preds-t_dep).mean()\n",
        "loss"
      ]
    },
    {
      "cell_type": "code",
      "execution_count": null,
      "metadata": {
        "id": "z5sojHm6EnzW"
      },
      "outputs": [],
      "source": [
        "def calc_preds(coeffs, indeps): return (indeps*coeffs).sum(axis=1)\n",
        "def calc_loss(coeffs, indeps, deps): return torch.abs(calc_preds(coeffs, indeps)-deps).mean()"
      ]
    },
    {
      "cell_type": "code",
      "execution_count": null,
      "metadata": {
        "colab": {
          "base_uri": "https://localhost:8080/"
        },
        "id": "vLTBUScUEqps",
        "outputId": "c52440c3-6afe-4ffc-fc04-80358dd08bf8"
      },
      "outputs": [
        {
          "data": {
            "text/plain": [
              "tensor([-0.4629,  0.1386,  0.2409, -0.2262, -0.2632, -0.3147,  0.4876,  0.3136,\n",
              "         0.2799, -0.4392,  0.2103,  0.3625,  0.1722,  0.2324, -0.3575, -0.0010],\n",
              "       requires_grad=True)"
            ]
          },
          "execution_count": 16,
          "metadata": {},
          "output_type": "execute_result"
        }
      ],
      "source": [
        "coeffs.requires_grad_()"
      ]
    },
    {
      "cell_type": "code",
      "execution_count": null,
      "metadata": {
        "colab": {
          "base_uri": "https://localhost:8080/"
        },
        "id": "otZhSUr_EuqC",
        "outputId": "61fe214a-f1d5-4abc-a9e8-dee608bf17eb"
      },
      "outputs": [
        {
          "data": {
            "text/plain": [
              "tensor(6023.2926, dtype=torch.float64, grad_fn=<MeanBackward0>)"
            ]
          },
          "execution_count": 22,
          "metadata": {},
          "output_type": "execute_result"
        }
      ],
      "source": [
        "loss = calc_loss(coeffs, t_indep, t_dep)\n",
        "loss"
      ]
    },
    {
      "cell_type": "code",
      "execution_count": null,
      "metadata": {
        "id": "4sfsGrvJExBl"
      },
      "outputs": [],
      "source": [
        "loss.backward()"
      ]
    },
    {
      "cell_type": "code",
      "execution_count": null,
      "metadata": {
        "colab": {
          "base_uri": "https://localhost:8080/"
        },
        "id": "6KTjuotKE0R3",
        "outputId": "1cc05284-1ab8-40ee-ef07-e13a92350ffe"
      },
      "outputs": [
        {
          "data": {
            "text/plain": [
              "tensor([-0.4926, -0.0211, -0.4902, -0.6569, -0.7898, -0.8686, -0.8684, -0.8691,\n",
              "        -0.8685, -0.8685, -0.8688, -0.5488, -0.5789, -0.7709, -0.8336, -0.7763])"
            ]
          },
          "execution_count": 24,
          "metadata": {},
          "output_type": "execute_result"
        }
      ],
      "source": [
        "coeffs.grad"
      ]
    },
    {
      "cell_type": "code",
      "execution_count": null,
      "metadata": {
        "colab": {
          "base_uri": "https://localhost:8080/"
        },
        "id": "aVQEUodFE426",
        "outputId": "fd4f4866-21c8-45a5-a1d5-93b7f66994ca"
      },
      "outputs": [
        {
          "name": "stdout",
          "output_type": "stream",
          "text": [
            "tensor(6019.8549, dtype=torch.float64)\n"
          ]
        }
      ],
      "source": [
        "loss = calc_loss(coeffs, t_indep, t_dep)\n",
        "loss.backward()\n",
        "with torch.no_grad():\n",
        "    coeffs.sub_(coeffs.grad * 0.1)\n",
        "    coeffs.grad.zero_()\n",
        "    print(calc_loss(coeffs, t_indep, t_dep))"
      ]
    },
    {
      "cell_type": "code",
      "execution_count": null,
      "metadata": {
        "id": "iHjgWr9IvkUY"
      },
      "outputs": [],
      "source": [
        "from fastai.data.transforms import RandomSplitter\n",
        "trn_split,val_split=RandomSplitter(seed=42)(df)"
      ]
    },
    {
      "cell_type": "code",
      "execution_count": null,
      "metadata": {
        "colab": {
          "base_uri": "https://localhost:8080/"
        },
        "id": "Bl7_FL5Nvl63",
        "outputId": "0a6a15d1-9a7d-4924-849a-f37cb47146f2"
      },
      "outputs": [
        {
          "data": {
            "text/plain": [
              "(12232, 3057)"
            ]
          },
          "execution_count": 31,
          "metadata": {},
          "output_type": "execute_result"
        }
      ],
      "source": [
        "trn_indep,val_indep = t_indep[trn_split],t_indep[val_split]\n",
        "trn_dep,val_dep = t_dep[trn_split],t_dep[val_split]\n",
        "len(trn_indep),len(val_indep)"
      ]
    },
    {
      "cell_type": "code",
      "execution_count": null,
      "metadata": {
        "id": "DJhW0pxhHM1U"
      },
      "outputs": [],
      "source": []
    },
    {
      "cell_type": "markdown",
      "metadata": {
        "id": "_W5YW7Qk9cBk"
      },
      "source": [
        "We are using trn_indep and trn_dep for training"
      ]
    },
    {
      "cell_type": "code",
      "execution_count": null,
      "metadata": {
        "id": "Jd5Lj8-BA0K8"
      },
      "outputs": [],
      "source": [
        "# NORMALISING trn_dep:\n",
        "# vals,indices = trn_dep.max(dim=0)\n",
        "# trn_dep = trn_dep / vals\n",
        "\n",
        "# vals,indices = val_dep.max(dim=0)\n",
        "# val_dep = val_dep / vals"
      ]
    },
    {
      "cell_type": "code",
      "execution_count": null,
      "metadata": {
        "id": "VGi-5DL9FHU9"
      },
      "outputs": [],
      "source": [
        "def update_coeffs(coeffs, lr):\n",
        "    coeffs.sub_(coeffs.grad * lr)\n",
        "    coeffs.grad.zero_()"
      ]
    },
    {
      "cell_type": "code",
      "execution_count": null,
      "metadata": {
        "id": "eAiBsP62FJFT"
      },
      "outputs": [],
      "source": [
        "# def one_epoch(coeffs, lr):\n",
        "#     loss = calc_loss(coeffs, trn_indep, trn_dep)\n",
        "#     loss.backward()\n",
        "#     with torch.no_grad(): update_coeffs(coeffs, lr)\n",
        "#     print(f\"{loss:.3f}\", end=\"; \")"
      ]
    },
    {
      "cell_type": "code",
      "execution_count": null,
      "metadata": {
        "id": "gw3FWxUlFMSA"
      },
      "outputs": [],
      "source": [
        "def init_coeffs(): return (torch.rand(n_coeff)-0.5).requires_grad_()"
      ]
    },
    {
      "cell_type": "code",
      "execution_count": null,
      "metadata": {
        "id": "jeqEV1V7FN3p"
      },
      "outputs": [],
      "source": [
        "def train_model(epochs=100, lr=0.1):\n",
        "    torch.manual_seed(442)\n",
        "    coeffs = init_coeffs()\n",
        "    for i in range(epochs):\n",
        "      loss = calc_loss(coeffs, trn_indep, trn_dep)\n",
        "      loss.backward()\n",
        "      with torch.no_grad(): update_coeffs(coeffs, lr)\n",
        "      if i % 200 == 0:\n",
        "        print(f\"{loss:.3f}\", end=\"; \")\n",
        "    return coeffs"
      ]
    },
    {
      "cell_type": "code",
      "execution_count": null,
      "metadata": {
        "colab": {
          "background_save": true,
          "base_uri": "https://localhost:8080/"
        },
        "id": "uPvFmOIuHWvm",
        "outputId": "65244d85-89d7-4ff2-c7ac-e37a72226b47"
      },
      "outputs": [
        {
          "name": "stdout",
          "output_type": "stream",
          "text": [
            "6019.726; "
          ]
        }
      ],
      "source": [
        "def calc_preds(coeffs, indeps): return indeps@coeffs\n",
        "def init_coeffs(): return (torch.rand(n_coeff, 1)*0.1).requires_grad_()\n",
        "# a=init_coeffs()\n",
        "# a\n",
        "trn_dep = trn_dep[:,None]\n",
        "val_dep = val_dep[:,None]\n",
        "coeffs = train_model(lr=1)"
      ]
    },
    {
      "cell_type": "code",
      "execution_count": null,
      "metadata": {
        "colab": {
          "base_uri": "https://localhost:8080/"
        },
        "id": "r6Pdh0arFQCb",
        "outputId": "84c178d0-c1e7-4490-c6c4-fe5962fd05df"
      },
      "outputs": [
        {
          "name": "stdout",
          "output_type": "stream",
          "text": [
            "6020.121; 6018.402; 6016.684; 6014.965; 6013.247; 6011.528; 6009.810; 6008.091; 6006.373; 6004.654; "
          ]
        }
      ],
      "source": [
        "coeffs = train_model(10, lr=0.2)"
      ]
    },
    {
      "cell_type": "code",
      "execution_count": null,
      "metadata": {
        "id": "tjCYVuqHIZhE"
      },
      "outputs": [],
      "source": [
        "def init_coeffs(n_hidden=20):\n",
        "    layer1 = (torch.rand(n_coeff, n_hidden)-0.5)/n_hidden\n",
        "    layer2 = torch.rand(n_hidden, 1)-0.3\n",
        "    const = torch.rand(1)[0]\n",
        "    return layer1.requires_grad_(),layer2.requires_grad_(),const.requires_grad_()"
      ]
    },
    {
      "cell_type": "code",
      "execution_count": null,
      "metadata": {
        "id": "hIxQcA0GIl2O"
      },
      "outputs": [],
      "source": [
        "import torch.nn.functional as F\n",
        "\n",
        "def calc_preds(coeffs, indeps):\n",
        "    l1,l2,const = coeffs\n",
        "    res = F.relu(indeps@l1)\n",
        "    res = res@l2 + const\n",
        "    return torch.sigmoid(res)"
      ]
    },
    {
      "cell_type": "code",
      "execution_count": null,
      "metadata": {
        "id": "rVR-xAl_IpSB"
      },
      "outputs": [],
      "source": [
        "def update_coeffs(coeffs, lr):\n",
        "    for layer in coeffs:\n",
        "        layer.sub_(layer.grad * lr)\n",
        "        layer.grad.zero_()"
      ]
    },
    {
      "cell_type": "code",
      "execution_count": null,
      "metadata": {
        "id": "-zc7sumgIso7"
      },
      "outputs": [],
      "source": [
        "coeffs = train_model(lr=1.4)"
      ]
    },
    {
      "cell_type": "code",
      "execution_count": null,
      "metadata": {
        "id": "ZwVXtT7Iv9eO"
      },
      "outputs": [],
      "source": [
        "def show_coeffs(): return dict(zip(X, coeffs.requires_grad_(False)))\n",
        "show_coeffs()"
      ]
    },
    {
      "cell_type": "code",
      "execution_count": null,
      "metadata": {
        "id": "dMLBlOfCwEfK"
      },
      "outputs": [],
      "source": [
        "preds = calc_preds(coeffs, val_indep)"
      ]
    },
    {
      "cell_type": "code",
      "execution_count": null,
      "metadata": {
        "colab": {
          "base_uri": "https://localhost:8080/"
        },
        "id": "dWpQq_lc86Ro",
        "outputId": "23139d88-6ab3-4efd-c2c3-92f4b08ecbe3"
      },
      "outputs": [
        {
          "data": {
            "text/plain": [
              "tensor([4429.2041, 5555.8843, 4532.0806,  ..., 4147.4883, 6749.7822,\n",
              "        4683.1260])"
            ]
          },
          "execution_count": 103,
          "metadata": {},
          "output_type": "execute_result"
        }
      ],
      "source": [
        "preds"
      ]
    },
    {
      "cell_type": "code",
      "execution_count": null,
      "metadata": {
        "colab": {
          "base_uri": "https://localhost:8080/"
        },
        "id": "2_tchk3I89_g",
        "outputId": "dd1f21d0-18a5-46bf-ba0c-69f20d4b21c0"
      },
      "outputs": [
        {
          "data": {
            "text/plain": [
              "tensor([3804.6102, 5605.2210, 3385.1480,  ..., 3496.3524, 5741.2103,\n",
              "        4200.9738], dtype=torch.float64)"
            ]
          },
          "execution_count": 104,
          "metadata": {},
          "output_type": "execute_result"
        }
      ],
      "source": [
        "val_dep"
      ]
    },
    {
      "cell_type": "code",
      "execution_count": null,
      "metadata": {
        "id": "Vqay-lqP86dU"
      },
      "outputs": [],
      "source": [
        "preds = calc_preds(coeffs, val_indep)"
      ]
    },
    {
      "cell_type": "code",
      "execution_count": null,
      "metadata": {
        "colab": {
          "base_uri": "https://localhost:8080/"
        },
        "id": "KEArR0Pp86k5",
        "outputId": "5fab1daf-bba7-497f-97f9-6ca2c39738b9"
      },
      "outputs": [
        {
          "data": {
            "text/plain": [
              "tensor(6044.5824, dtype=torch.float64)"
            ]
          },
          "execution_count": 46,
          "metadata": {},
          "output_type": "execute_result"
        }
      ],
      "source": [
        "error = torch.abs(preds-val_dep).mean()\n",
        "error"
      ]
    },
    {
      "cell_type": "code",
      "execution_count": null,
      "metadata": {
        "id": "snW53atn2Jwr"
      },
      "outputs": [],
      "source": [
        "X_test1 = pd.read_csv('/content/drive/My Drive/excelfiles/test314.csv')"
      ]
    },
    {
      "cell_type": "code",
      "execution_count": null,
      "metadata": {
        "id": "8UeXnDhO8iBU"
      },
      "outputs": [],
      "source": [
        "X_test=X_test1.drop('id',axis=1)"
      ]
    },
    {
      "cell_type": "code",
      "execution_count": null,
      "metadata": {
        "colab": {
          "base_uri": "https://localhost:8080/"
        },
        "id": "T8KX960TF509",
        "outputId": "5aa7927f-0459-472f-97f4-24fe85da3292"
      },
      "outputs": [
        {
          "data": {
            "text/plain": [
              "torch.Size([16])"
            ]
          },
          "execution_count": 43,
          "metadata": {},
          "output_type": "execute_result"
        }
      ],
      "source": [
        "coeffs.shape"
      ]
    },
    {
      "cell_type": "code",
      "execution_count": null,
      "metadata": {
        "id": "AKr2rWG4GXna"
      },
      "outputs": [],
      "source": [
        "val_indep = tensor(X_test.values)"
      ]
    },
    {
      "cell_type": "code",
      "execution_count": null,
      "metadata": {
        "id": "IRHeOTQC3UHU"
      },
      "outputs": [],
      "source": [
        "preds = calc_preds(coeffs, val_indep)"
      ]
    },
    {
      "cell_type": "code",
      "execution_count": null,
      "metadata": {
        "id": "_9hVOh7OIcUd"
      },
      "outputs": [],
      "source": [
        "y_pred = pd.DataFrame(preds.numpy())"
      ]
    },
    {
      "cell_type": "code",
      "execution_count": null,
      "metadata": {
        "id": "cFSsYlMhIDUA"
      },
      "outputs": [],
      "source": [
        "import matplotlib.pyplot as plt\n",
        "y_pred.hist(bins=50, figsize=(20,15))\n",
        "plt.show()"
      ]
    },
    {
      "cell_type": "code",
      "execution_count": null,
      "metadata": {
        "colab": {
          "base_uri": "https://localhost:8080/"
        },
        "id": "B5Zmn_RqJUa2",
        "outputId": "1811f2bc-656e-4b1f-c4d9-2b46ffa80e51"
      },
      "outputs": [
        {
          "data": {
            "text/plain": [
              "count    15289.000000\n",
              "mean      6025.193999\n",
              "std       1337.056850\n",
              "min       1945.530610\n",
              "25%       5128.163510\n",
              "50%       6117.475900\n",
              "75%       7019.694380\n",
              "max       8969.401840\n",
              "Name: yield, dtype: float64"
            ]
          },
          "execution_count": 112,
          "metadata": {},
          "output_type": "execute_result"
        }
      ],
      "source": [
        "y.describe()"
      ]
    },
    {
      "cell_type": "code",
      "execution_count": null,
      "metadata": {
        "id": "9ZfbhsA-JbM6"
      },
      "outputs": [],
      "source": [
        "# y_pred=y_pred*100"
      ]
    },
    {
      "cell_type": "code",
      "execution_count": null,
      "metadata": {
        "colab": {
          "base_uri": "https://localhost:8080/",
          "height": 300
        },
        "id": "ngpioaJJIs9l",
        "outputId": "34e46c3a-d39c-416b-bd6a-a0629c18ad55"
      },
      "outputs": [
        {
          "data": {
            "text/html": [
              "\n",
              "  <div id=\"df-6e826773-a2a8-4ece-a861-1a5dbe3ea8a2\">\n",
              "    <div class=\"colab-df-container\">\n",
              "      <div>\n",
              "<style scoped>\n",
              "    .dataframe tbody tr th:only-of-type {\n",
              "        vertical-align: middle;\n",
              "    }\n",
              "\n",
              "    .dataframe tbody tr th {\n",
              "        vertical-align: top;\n",
              "    }\n",
              "\n",
              "    .dataframe thead th {\n",
              "        text-align: right;\n",
              "    }\n",
              "</style>\n",
              "<table border=\"1\" class=\"dataframe\">\n",
              "  <thead>\n",
              "    <tr style=\"text-align: right;\">\n",
              "      <th></th>\n",
              "      <th>0</th>\n",
              "    </tr>\n",
              "  </thead>\n",
              "  <tbody>\n",
              "    <tr>\n",
              "      <th>count</th>\n",
              "      <td>10194.000000</td>\n",
              "    </tr>\n",
              "    <tr>\n",
              "      <th>mean</th>\n",
              "      <td>688532.354871</td>\n",
              "    </tr>\n",
              "    <tr>\n",
              "      <th>std</th>\n",
              "      <td>67344.986218</td>\n",
              "    </tr>\n",
              "    <tr>\n",
              "      <th>min</th>\n",
              "      <td>559291.125594</td>\n",
              "    </tr>\n",
              "    <tr>\n",
              "      <th>25%</th>\n",
              "      <td>634693.320281</td>\n",
              "    </tr>\n",
              "    <tr>\n",
              "      <th>50%</th>\n",
              "      <td>694667.529213</td>\n",
              "    </tr>\n",
              "    <tr>\n",
              "      <th>75%</th>\n",
              "      <td>741991.702044</td>\n",
              "    </tr>\n",
              "    <tr>\n",
              "      <th>max</th>\n",
              "      <td>814121.613735</td>\n",
              "    </tr>\n",
              "  </tbody>\n",
              "</table>\n",
              "</div>\n",
              "      <button class=\"colab-df-convert\" onclick=\"convertToInteractive('df-6e826773-a2a8-4ece-a861-1a5dbe3ea8a2')\"\n",
              "              title=\"Convert this dataframe to an interactive table.\"\n",
              "              style=\"display:none;\">\n",
              "        \n",
              "  <svg xmlns=\"http://www.w3.org/2000/svg\" height=\"24px\"viewBox=\"0 0 24 24\"\n",
              "       width=\"24px\">\n",
              "    <path d=\"M0 0h24v24H0V0z\" fill=\"none\"/>\n",
              "    <path d=\"M18.56 5.44l.94 2.06.94-2.06 2.06-.94-2.06-.94-.94-2.06-.94 2.06-2.06.94zm-11 1L8.5 8.5l.94-2.06 2.06-.94-2.06-.94L8.5 2.5l-.94 2.06-2.06.94zm10 10l.94 2.06.94-2.06 2.06-.94-2.06-.94-.94-2.06-.94 2.06-2.06.94z\"/><path d=\"M17.41 7.96l-1.37-1.37c-.4-.4-.92-.59-1.43-.59-.52 0-1.04.2-1.43.59L10.3 9.45l-7.72 7.72c-.78.78-.78 2.05 0 2.83L4 21.41c.39.39.9.59 1.41.59.51 0 1.02-.2 1.41-.59l7.78-7.78 2.81-2.81c.8-.78.8-2.07 0-2.86zM5.41 20L4 18.59l7.72-7.72 1.47 1.35L5.41 20z\"/>\n",
              "  </svg>\n",
              "      </button>\n",
              "      \n",
              "  <style>\n",
              "    .colab-df-container {\n",
              "      display:flex;\n",
              "      flex-wrap:wrap;\n",
              "      gap: 12px;\n",
              "    }\n",
              "\n",
              "    .colab-df-convert {\n",
              "      background-color: #E8F0FE;\n",
              "      border: none;\n",
              "      border-radius: 50%;\n",
              "      cursor: pointer;\n",
              "      display: none;\n",
              "      fill: #1967D2;\n",
              "      height: 32px;\n",
              "      padding: 0 0 0 0;\n",
              "      width: 32px;\n",
              "    }\n",
              "\n",
              "    .colab-df-convert:hover {\n",
              "      background-color: #E2EBFA;\n",
              "      box-shadow: 0px 1px 2px rgba(60, 64, 67, 0.3), 0px 1px 3px 1px rgba(60, 64, 67, 0.15);\n",
              "      fill: #174EA6;\n",
              "    }\n",
              "\n",
              "    [theme=dark] .colab-df-convert {\n",
              "      background-color: #3B4455;\n",
              "      fill: #D2E3FC;\n",
              "    }\n",
              "\n",
              "    [theme=dark] .colab-df-convert:hover {\n",
              "      background-color: #434B5C;\n",
              "      box-shadow: 0px 1px 3px 1px rgba(0, 0, 0, 0.15);\n",
              "      filter: drop-shadow(0px 1px 2px rgba(0, 0, 0, 0.3));\n",
              "      fill: #FFFFFF;\n",
              "    }\n",
              "  </style>\n",
              "\n",
              "      <script>\n",
              "        const buttonEl =\n",
              "          document.querySelector('#df-6e826773-a2a8-4ece-a861-1a5dbe3ea8a2 button.colab-df-convert');\n",
              "        buttonEl.style.display =\n",
              "          google.colab.kernel.accessAllowed ? 'block' : 'none';\n",
              "\n",
              "        async function convertToInteractive(key) {\n",
              "          const element = document.querySelector('#df-6e826773-a2a8-4ece-a861-1a5dbe3ea8a2');\n",
              "          const dataTable =\n",
              "            await google.colab.kernel.invokeFunction('convertToInteractive',\n",
              "                                                     [key], {});\n",
              "          if (!dataTable) return;\n",
              "\n",
              "          const docLinkHtml = 'Like what you see? Visit the ' +\n",
              "            '<a target=\"_blank\" href=https://colab.research.google.com/notebooks/data_table.ipynb>data table notebook</a>'\n",
              "            + ' to learn more about interactive tables.';\n",
              "          element.innerHTML = '';\n",
              "          dataTable['output_type'] = 'display_data';\n",
              "          await google.colab.output.renderOutput(dataTable, element);\n",
              "          const docLink = document.createElement('div');\n",
              "          docLink.innerHTML = docLinkHtml;\n",
              "          element.appendChild(docLink);\n",
              "        }\n",
              "      </script>\n",
              "    </div>\n",
              "  </div>\n",
              "  "
            ],
            "text/plain": [
              "                   0\n",
              "count   10194.000000\n",
              "mean   688532.354871\n",
              "std     67344.986218\n",
              "min    559291.125594\n",
              "25%    634693.320281\n",
              "50%    694667.529213\n",
              "75%    741991.702044\n",
              "max    814121.613735"
            ]
          },
          "execution_count": 50,
          "metadata": {},
          "output_type": "execute_result"
        }
      ],
      "source": [
        "y_pred.describe()"
      ]
    },
    {
      "cell_type": "code",
      "execution_count": null,
      "metadata": {
        "id": "u1oIqKRc2TTA"
      },
      "outputs": [],
      "source": [
        "blueberry_submission = pd.concat([X_test1['id'], y_pred], axis=1)"
      ]
    },
    {
      "cell_type": "code",
      "execution_count": null,
      "metadata": {
        "id": "wqBVVO7rJwLB"
      },
      "outputs": [],
      "source": [
        "blueberry_submission.columns.values[1] = 'yield'"
      ]
    },
    {
      "cell_type": "code",
      "execution_count": null,
      "metadata": {
        "colab": {
          "base_uri": "https://localhost:8080/",
          "height": 17
        },
        "id": "OjxGvuGr2z90",
        "outputId": "1dcd18eb-b7a0-4f92-d681-ac843099c9fe"
      },
      "outputs": [
        {
          "data": {
            "application/javascript": [
              "\n",
              "    async function download(id, filename, size) {\n",
              "      if (!google.colab.kernel.accessAllowed) {\n",
              "        return;\n",
              "      }\n",
              "      const div = document.createElement('div');\n",
              "      const label = document.createElement('label');\n",
              "      label.textContent = `Downloading \"${filename}\": `;\n",
              "      div.appendChild(label);\n",
              "      const progress = document.createElement('progress');\n",
              "      progress.max = size;\n",
              "      div.appendChild(progress);\n",
              "      document.body.appendChild(div);\n",
              "\n",
              "      const buffers = [];\n",
              "      let downloaded = 0;\n",
              "\n",
              "      const channel = await google.colab.kernel.comms.open(id);\n",
              "      // Send a message to notify the kernel that we're ready.\n",
              "      channel.send({})\n",
              "\n",
              "      for await (const message of channel.messages) {\n",
              "        // Send a message to notify the kernel that we're ready.\n",
              "        channel.send({})\n",
              "        if (message.buffers) {\n",
              "          for (const buffer of message.buffers) {\n",
              "            buffers.push(buffer);\n",
              "            downloaded += buffer.byteLength;\n",
              "            progress.value = downloaded;\n",
              "          }\n",
              "        }\n",
              "      }\n",
              "      const blob = new Blob(buffers, {type: 'application/binary'});\n",
              "      const a = document.createElement('a');\n",
              "      a.href = window.URL.createObjectURL(blob);\n",
              "      a.download = filename;\n",
              "      div.appendChild(a);\n",
              "      a.click();\n",
              "      div.remove();\n",
              "    }\n",
              "  "
            ],
            "text/plain": [
              "<IPython.core.display.Javascript object>"
            ]
          },
          "metadata": {},
          "output_type": "display_data"
        },
        {
          "data": {
            "application/javascript": [
              "download(\"download_ca7ae01b-418f-4f48-a132-82f41a59c910\", \"blueberry_submission.csv\", 251622)"
            ],
            "text/plain": [
              "<IPython.core.display.Javascript object>"
            ]
          },
          "metadata": {},
          "output_type": "display_data"
        }
      ],
      "source": [
        "from google.colab import files\n",
        "\n",
        "# Save the DataFrame to an Excel file\n",
        "blueberry_submission.to_csv(\"blueberry_submission.csv\", index=False)\n",
        "\n",
        "# Download the Excel file to your local machine\n",
        "files.download(\"blueberry_submission.csv\")"
      ]
    }
  ],
  "metadata": {
    "colab": {
      "provenance": [],
      "authorship_tag": "ABX9TyOTB3oeH5clcP6PdPjUjl5H",
      "include_colab_link": true
    },
    "kernelspec": {
      "display_name": "Python 3",
      "name": "python3"
    },
    "language_info": {
      "name": "python"
    }
  },
  "nbformat": 4,
  "nbformat_minor": 0
}